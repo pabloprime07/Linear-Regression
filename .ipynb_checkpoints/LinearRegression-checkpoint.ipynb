{
 "cells": [
  {
   "cell_type": "markdown",
   "metadata": {},
   "source": [
    "# The Lego Collector's Dilemma  \n",
    "\n",
    "## Problem statement\n",
    "\n",
    "You are a die hard Lego enthusiast wishing to collect as many board sets as you can. But before that you wish to be able to predict the price of a new lego product before its price is revealed so that you can budget it from your revenue. Since (luckily!), you are a data scientist in the making, you wished to solve this problem yourself. This dataset contains information on lego sets scraped from lego.com. Each observation is a different lego set with various features like how many pieces in the set, rating for the set, number of reviews per set etc. Your aim is to build a linear regression model to predict the price of a set.\n",
    "\n",
    "\n",
    "## About the Dataset:\n",
    "The snapshot of the data, you will be working on :\n",
    "\n",
    "![Dataset](lego_data.PNG)\n",
    "\n",
    "You can see that some of the features of `review_difficulty`, `theme_name` and `Country Name` in the data are textual in nature. Don't worry, we have made things simple for you with some behind-the-scenes data preprocessing.  We have also modified the feature of `age`. You will be learning about all these preprocessing techinques in a later concept. For now let us concentrate on getting those Lego sets in your hands soon. :) \n",
    "\n",
    "![Dataset](new_le.png)\n",
    "\n",
    "\n",
    "The dataset has details of 9910 lego sets with the following 10 features\n",
    "\n",
    "|Feature|Description|\n",
    "|-----|-----|\n",
    "|age|Which age categories it belongs to|\n",
    "|list_price|price of the set (in $)|\n",
    "|num_reviews|number of reviews per set|\n",
    "|piece_count| number of pieces in that lego set|\n",
    "|play_star_rating|ratings|\n",
    "|review_difficulty|difficulty level of the set|\n",
    "|star_rating|ratings|\n",
    "|theme_name|which theme it belongs|\n",
    "|val_star_rating|ratings|\n",
    "|country|country name|\n",
    "\n",
    "\n",
    "\n",
    "\n",
    "\n",
    "\n",
    "\n",
    "\n"
   ]
  },
  {
   "cell_type": "markdown",
   "metadata": {},
   "source": [
    "## INTRODUCTION \n",
    "\n",
    "Our aim here is to predict the price of lego given its other features.\n",
    "This can be achieved using multiple linear regression.\n",
    "\n",
    "Multiple linear regression attempts to model the relationship between two or more features and a response by fitting a linear equation to observed data.\n",
    "\n",
    "\n",
    "Here our dataset has p=9 features(or independent variables) and one response(or dependent variable) which is the list price.\n",
    "Also, the dataset contains n = 9910 rows/observations.\n",
    "\n",
    "## Mathematics\n",
    "Before proceeding to code, first we go through the rationale behind multiple linear regression\n",
    "\n",
    "We define:\n",
    "\n",
    "X (feature matrix) = a matrix of size 9910 X 9 where x_{ij} denotes the values of jth feature for ith observation.\n",
    "\n",
    "So,\n",
    " \\begin{pmatrix}  x_{11} & \\cdots & x_{9} \\\\   x_{21} & \\cdots & x_{9} \\\\   \\vdots & \\ddots & \\vdots \\\\   x_{9910} & \\vdots & x_{9}  \\end{pmatrix} \n",
    "\n",
    "and\n",
    "\n",
    "y (response vector) = a vector of size 9910 where y_{i} denotes the value of response for ith observation.\n",
    "\n",
    " y = \\begin{bmatrix} y_{1}\\\\  y_{2}\\\\  .\\\\  .\\\\  y_{9910} \\end{bmatrix} \n",
    "\n",
    "The regression line for  features is represented as:\n",
    " \\begin{equation} h(x_i) = \\beta_0 + \\beta_1x_{i1} + \\beta_2x_{i2} + .... + \\beta_9x_{i9} \\end{equation} \n",
    "where h(x_i) is predicted response value for ith observation and b_0, b_1, …, b_9 are the regression coefficients.\n",
    "\n",
    "Also, we can write:\n",
    "\\begin{align*} \\newline y_i &= \\beta_0 + \\beta_1x_{i1} + \\beta_2x_{i2} + .... + \\beta_px_{ip} + \\varepsilon_i  \\newline or  \\newline y_i &= h(x_i) + \\varepsilon_i \\Rightarrow \\varepsilon_i = y_i - h(x_i) \n",
    "\\end{align*}\n",
    "where e_i represents residual error in ith observation.\n",
    "\n",
    "We can generalize our linear model a little bit more by representing feature matrix X as:\n",
    "  X = \\begin{pmatrix}  1 & x_{11} & \\cdots & x_{19} \\\\   1 & x_{21} & \\cdots & x_{29} \\\\   \\vdots & \\vdots & \\ddots & \\vdots \\\\   1 & x_{99101} & \\cdots & x_{99109}  \\end{pmatrix} \n",
    "So now, the linear model can be expressed in terms of matrices as:\n",
    "$ y = X\\beta + \\varepsilon $\n",
    "\n",
    "where,\n",
    "$ \\beta $ = \\begin{bmatrix} \\beta_0\\\\  \\beta_1\\\\  .\\\\  .\\\\  \\beta_9 \\end{bmatrix} \n",
    "\n",
    "and\n",
    "\n",
    "$ \\varepsilon $ = \\begin{bmatrix} \\varepsilon_{1}\\\\  \\varepsilon_{2}\\\\  .\\\\  .\\\\  \\varepsilon_{9910} \\end{bmatrix} \n",
    "\n",
    "Now, we determine estimate of b, i.e. b’ using Least Squares method.\n",
    "\n",
    "Least Squares method tends to determine b’ for which total residual error is minimized.\n",
    "\n",
    "The result comes out to be:\n",
    "$ \\hat{\\beta} = ({X}'X)^{-1} {X}'y $\n",
    "where ‘ represents the transpose of the matrix while -1 represents the matrix inverse.\n",
    "\n",
    "Knowing the least square estimates, b’, the multiple linear regression model can now be estimated as:\n",
    "\n",
    "$ \\hat{y} = X\\hat{\\beta} $\n",
    "\n",
    "where y’ is estimated response vector.\n"
   ]
  },
  {
   "cell_type": "markdown",
   "metadata": {},
   "source": [
    "## Implementing our model in python\n",
    "\n",
    "Now, we will be implementing our model in python using numpy, sklearn, csv and matplotlib libraries\n",
    "\n",
    "### Importing Libraries\n",
    "\n",
    "The given task can be achieved using basic python only but it will be cumbersome, it is better to use libraries\n",
    "\n",
    "First task is to import the libraries required\n"
   ]
  },
  {
   "cell_type": "code",
   "execution_count": 8,
   "metadata": {},
   "outputs": [],
   "source": [
    "\n",
    "import matplotlib.pyplot as plt \n",
    "import numpy as np \n",
    "from sklearn import datasets, linear_model, metrics \n",
    "from sklearn.model_selection import train_test_split \n",
    "import csv"
   ]
  },
  {
   "cell_type": "markdown",
   "metadata": {},
   "source": [
    "### Importing Data\n",
    "\n",
    "The next step is to import data using csv library of python\n"
   ]
  },
  {
   "cell_type": "code",
   "execution_count": 9,
   "metadata": {},
   "outputs": [],
   "source": [
    "#The next step is to import data using csv library of python\n",
    "\n",
    "with open('lego_final.csv', 'r') as f:\n",
    "    data = list(csv.reader(f, delimiter=','))\n",
    "data = np.array(data[1:], dtype=np.float)\n",
    "y = data[:,1]\n",
    "data = np.delete(data,1,1)\n",
    "X = data\n",
    "\n",
    "# Also we have to split the data into feature sets \n",
    "# and the output(price of lego set) "
   ]
  },
  {
   "cell_type": "markdown",
   "metadata": {},
   "source": [
    "### Splitting the data for Training and Testing\n",
    "\n",
    "Next we have to split the data into feature sets and the output(list price of lego).\n",
    "We do this by using train_test_split function which we had imported earlier.\n",
    "\n",
    "Here we will be testing the model on 40% of the dataset.\n"
   ]
  },
  {
   "cell_type": "code",
   "execution_count": 10,
   "metadata": {},
   "outputs": [],
   "source": [
    "\n",
    "X_train, X_test, y_train, y_test = train_test_split(X, y, test_size=0.4, \n",
    "                                                    random_state=1) \n",
    "\n",
    "#Here we will be testing the model on 40% of the dataset."
   ]
  },
  {
   "cell_type": "markdown",
   "metadata": {},
   "source": [
    "### Training the model \n",
    "Now, we train our model using the training set \n"
   ]
  },
  {
   "cell_type": "code",
   "execution_count": 11,
   "metadata": {},
   "outputs": [
    {
     "name": "stdout",
     "output_type": "stream",
     "text": [
      "Coefficients: \n",
      " [ -0.79249442  -0.10179326   0.09763197  15.92152647  -3.50835441\n",
      "  -2.05017399   0.43015101 -17.98414929   0.18936394]\n"
     ]
    }
   ],
   "source": [
    "# create linear regression object \n",
    "reg = linear_model.LinearRegression() \n",
    "  \n",
    "# train the model using the training sets \n",
    "reg.fit(X_train, y_train) \n",
    "  \n",
    "# regression coefficients \n",
    "print('Coefficients: \\n', reg.coef_) \n"
   ]
  },
  {
   "cell_type": "markdown",
   "metadata": {},
   "source": [
    "## Evaluation of our model"
   ]
  },
  {
   "cell_type": "code",
   "execution_count": 13,
   "metadata": {},
   "outputs": [
    {
     "name": "stdout",
     "output_type": "stream",
     "text": [
      "Variance score: 0.7827665947683295\n"
     ]
    },
    {
     "data": {
      "image/png": "[encoded data removed]",
      "text/plain": [
       "<Figure size 432x288 with 1 Axes>"
      ]
     },
     "metadata": {},
     "output_type": "display_data"
    }
   ],
   "source": [
    "  \n",
    "# variance score: 1 means perfect prediction \n",
    "print('Variance score: {}'.format(reg.score(X_test, y_test))) \n",
    "  \n",
    "# plot for residual error \n",
    "  \n",
    "## setting plot style \n",
    "plt.style.use('fivethirtyeight') \n",
    "  \n",
    "## plotting residual errors in training data \n",
    "plt.scatter(y_train,  y_train - reg.predict(X_train) , \n",
    "            color = \"green\", s = 10, label = 'Train data') \n",
    "  \n",
    "## plotting residual errors in test data \n",
    "plt.scatter(y_test,  y_test - reg.predict(X_test) , \n",
    "            color = \"blue\", s = 10, label = 'Test data') \n",
    "  \n",
    "## plotting line for zero residual error \n",
    "plt.hlines(y = 0, xmin = 0, xmax = 50, linewidth = 2) \n",
    "  \n",
    "## plotting legend \n",
    "plt.legend(loc = 'upper right') \n",
    "  \n",
    "## plot title \n",
    "plt.title(\"Residual errors\") \n",
    "  \n",
    "## function to show plot \n",
    "plt.show() "
   ]
  },
  {
   "cell_type": "markdown",
   "metadata": {},
   "source": [
    "Here, we determine accuracy score using Explained Variance Score.\n",
    "We define:\n",
    "explained_variance_score = 1 – Var{y – y’}/Var{y}\n",
    "where y’ is the estimated target output, y the corresponding (correct) target output, and Var is Variance, the square of the standard deviation.\n",
    "The best possible score is 1.0, lower values are worse.\n",
    "\n",
    "In the Residual errors graph we have plotted actual prices vs the difference between actual and predicted values.\n",
    "\n"
   ]
  },
  {
   "cell_type": "markdown",
   "metadata": {},
   "source": [
    "## Conclusion\n",
    "\n",
    "As it can be clearly seen that the graph is crowded around the x-axis, affirms the validity of our model.\n"
   ]
  },
  {
   "cell_type": "code",
   "execution_count": null,
   "metadata": {},
   "outputs": [],
   "source": []
  }
 ],
 "metadata": {
  "kernelspec": {
   "display_name": "Python 3",
   "language": "python",
   "name": "python3"
  },
  "language_info": {
   "codemirror_mode": {
    "name": "ipython",
    "version": 3
   },
   "file_extension": ".py",
   "mimetype": "text/x-python",
   "name": "python",
   "nbconvert_exporter": "python",
   "pygments_lexer": "ipython3",
   "version": "3.6.6"
  }
 },
 "nbformat": 4,
 "nbformat_minor": 2
}
